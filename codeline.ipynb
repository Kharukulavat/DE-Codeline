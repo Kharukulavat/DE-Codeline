{
 "cells": [
  {
   "cell_type": "markdown",
   "metadata": {},
   "source": [
    ". Extracting Data from Google Sheets\n",
    "\n",
    "\t•\tLibrary Choice: Using gspread is an excellent approach for reading and writing data from Google Sheets. It integrates seamlessly with Google APIs and provides simple methods to access and manipulate the data in Google Sheets.\n",
    "\t•\tSteps:\n",
    "\t1.\tInstall gspread and oauth2client for authentication:"
   ]
  },
  {
   "cell_type": "code",
   "execution_count": null,
   "metadata": {},
   "outputs": [],
   "source": [
    "pip install gspread oauth2client"
   ]
  },
  {
   "cell_type": "markdown",
   "metadata": {},
   "source": [
    "\t2.\tAuthenticate using a service account, following the instructions here.\n",
    "\t3.\tRead data from the Google Sheets:"
   ]
  },
  {
   "cell_type": "code",
   "execution_count": null,
   "metadata": {},
   "outputs": [],
   "source": [
    "import gspread\n",
    "from oauth2client.service_account import ServiceAccountCredentials\n",
    "\n",
    "# Setup the scope and authenticate using the credentials JSON file\n",
    "scope = [\"https://spreadsheets.google.com/feeds\", \"https://www.googleapis.com/auth/drive\"]\n",
    "creds = ServiceAccountCredentials.from_json_keyfile_name('credentials.json', scope)\n",
    "client = gspread.authorize(creds)\n",
    "\n",
    "# Access the sheet by name or URL\n",
    "sheet = client.open(\"P'Take N'Take Data\").sheet1\n",
    "\n",
    "# Extract all records into a list of dictionaries\n",
    "data = sheet.get_all_records()"
   ]
  },
  {
   "cell_type": "code",
   "execution_count": null,
   "metadata": {},
   "outputs": [],
   "source": [
    "ptakes = [row['P'Take'] for row in data]\n",
    "ntakes = [row['N'Take'] for row in data]"
   ]
  },
  {
   "cell_type": "code",
   "execution_count": null,
   "metadata": {},
   "outputs": [],
   "source": [
    "import random\n",
    "\n",
    "# Randomize N'Take assignments to P'Take\n",
    "ntake_assignments = random.sample(ntakes, len(ptakes))\n",
    "\n",
    "# Pair P'Takes with randomly assigned N'Takes\n",
    "pairings = list(zip(ptakes, ntake_assignments))"
   ]
  },
  {
   "cell_type": "code",
   "execution_count": null,
   "metadata": {},
   "outputs": [],
   "source": [
    "if len(ptakes) > len(ntakes):\n",
    "    # Re-assign some P'Takes with multiple N'Takes\n",
    "    extra_ntakes = random.sample(ntakes, len(ptakes) - len(ntakes))\n",
    "    ntakes.extend(extra_ntakes)"
   ]
  },
  {
   "cell_type": "code",
   "execution_count": null,
   "metadata": {},
   "outputs": [],
   "source": [
    "clues = {pair[0]: f\"Clue for {pair[1]}\" for pair in pairings}  # Clue for N'Take from P'Take\n",
    "messages = {pair[1]: f\"Message from {pair[0]}\" for pair in pairings}  # Message from N'Take to P'Take"
   ]
  }
 ],
 "metadata": {
  "language_info": {
   "name": "python"
  }
 },
 "nbformat": 4,
 "nbformat_minor": 2
}
